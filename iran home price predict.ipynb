{
 "cells": [
  {
   "cell_type": "code",
   "execution_count": 1,
   "metadata": {},
   "outputs": [],
   "source": [
    "import numpy as np \n",
    "import pandas as pd\n",
    "import matplotlib.pyplot as plt\n",
    "import seaborn as sns\n",
    "import plotly.express as px\n",
    "import os\n",
    "import time\n",
    "import re\n",
    "from sklearn.model_selection import train_test_split, GridSearchCV, KFold\n",
    "from sklearn.preprocessing import MinMaxScaler\n",
    "from sklearn.metrics import mean_squared_error, r2_score\n",
    "from xgboost import XGBRegressor\n",
    "from catboost import CatBoostRegressor\n",
    "\n",
    "import warnings\n",
    "warnings.filterwarnings('ignore')"
   ]
  },
  {
   "cell_type": "code",
   "execution_count": 2,
   "metadata": {},
   "outputs": [
    {
     "data": {
      "text/html": [
       "<div>\n",
       "<style scoped>\n",
       "    .dataframe tbody tr th:only-of-type {\n",
       "        vertical-align: middle;\n",
       "    }\n",
       "\n",
       "    .dataframe tbody tr th {\n",
       "        vertical-align: top;\n",
       "    }\n",
       "\n",
       "    .dataframe thead th {\n",
       "        text-align: right;\n",
       "    }\n",
       "</style>\n",
       "<table border=\"1\" class=\"dataframe\">\n",
       "  <thead>\n",
       "    <tr style=\"text-align: right;\">\n",
       "      <th></th>\n",
       "      <th>Area</th>\n",
       "      <th>Room</th>\n",
       "      <th>Parking</th>\n",
       "      <th>Warehouse</th>\n",
       "      <th>Elevator</th>\n",
       "      <th>Address</th>\n",
       "      <th>Price</th>\n",
       "      <th>Price(USD)</th>\n",
       "    </tr>\n",
       "  </thead>\n",
       "  <tbody>\n",
       "    <tr>\n",
       "      <th>0</th>\n",
       "      <td>63</td>\n",
       "      <td>1</td>\n",
       "      <td>True</td>\n",
       "      <td>True</td>\n",
       "      <td>True</td>\n",
       "      <td>Shahran</td>\n",
       "      <td>1.850000e+09</td>\n",
       "      <td>61666.67</td>\n",
       "    </tr>\n",
       "    <tr>\n",
       "      <th>1</th>\n",
       "      <td>60</td>\n",
       "      <td>1</td>\n",
       "      <td>True</td>\n",
       "      <td>True</td>\n",
       "      <td>True</td>\n",
       "      <td>Shahran</td>\n",
       "      <td>1.850000e+09</td>\n",
       "      <td>61666.67</td>\n",
       "    </tr>\n",
       "    <tr>\n",
       "      <th>2</th>\n",
       "      <td>79</td>\n",
       "      <td>2</td>\n",
       "      <td>True</td>\n",
       "      <td>True</td>\n",
       "      <td>True</td>\n",
       "      <td>Pardis</td>\n",
       "      <td>5.500000e+08</td>\n",
       "      <td>18333.33</td>\n",
       "    </tr>\n",
       "    <tr>\n",
       "      <th>3</th>\n",
       "      <td>95</td>\n",
       "      <td>2</td>\n",
       "      <td>True</td>\n",
       "      <td>True</td>\n",
       "      <td>True</td>\n",
       "      <td>Shahrake Qods</td>\n",
       "      <td>9.025000e+08</td>\n",
       "      <td>30083.33</td>\n",
       "    </tr>\n",
       "    <tr>\n",
       "      <th>4</th>\n",
       "      <td>123</td>\n",
       "      <td>2</td>\n",
       "      <td>True</td>\n",
       "      <td>True</td>\n",
       "      <td>True</td>\n",
       "      <td>Shahrake Gharb</td>\n",
       "      <td>7.000000e+09</td>\n",
       "      <td>233333.33</td>\n",
       "    </tr>\n",
       "    <tr>\n",
       "      <th>5</th>\n",
       "      <td>70</td>\n",
       "      <td>2</td>\n",
       "      <td>True</td>\n",
       "      <td>True</td>\n",
       "      <td>False</td>\n",
       "      <td>North Program Organization</td>\n",
       "      <td>2.050000e+09</td>\n",
       "      <td>68333.33</td>\n",
       "    </tr>\n",
       "    <tr>\n",
       "      <th>6</th>\n",
       "      <td>87</td>\n",
       "      <td>2</td>\n",
       "      <td>True</td>\n",
       "      <td>True</td>\n",
       "      <td>True</td>\n",
       "      <td>Pardis</td>\n",
       "      <td>6.000000e+08</td>\n",
       "      <td>20000.00</td>\n",
       "    </tr>\n",
       "    <tr>\n",
       "      <th>7</th>\n",
       "      <td>59</td>\n",
       "      <td>1</td>\n",
       "      <td>True</td>\n",
       "      <td>True</td>\n",
       "      <td>True</td>\n",
       "      <td>Shahran</td>\n",
       "      <td>2.150000e+09</td>\n",
       "      <td>71666.67</td>\n",
       "    </tr>\n",
       "    <tr>\n",
       "      <th>8</th>\n",
       "      <td>54</td>\n",
       "      <td>2</td>\n",
       "      <td>True</td>\n",
       "      <td>True</td>\n",
       "      <td>False</td>\n",
       "      <td>Andisheh</td>\n",
       "      <td>4.930000e+08</td>\n",
       "      <td>16433.33</td>\n",
       "    </tr>\n",
       "    <tr>\n",
       "      <th>9</th>\n",
       "      <td>71</td>\n",
       "      <td>1</td>\n",
       "      <td>True</td>\n",
       "      <td>True</td>\n",
       "      <td>True</td>\n",
       "      <td>West Ferdows Boulevard</td>\n",
       "      <td>2.370000e+09</td>\n",
       "      <td>79000.00</td>\n",
       "    </tr>\n",
       "  </tbody>\n",
       "</table>\n",
       "</div>"
      ],
      "text/plain": [
       "  Area  Room  Parking  Warehouse  Elevator                     Address  \\\n",
       "0   63     1     True       True      True                     Shahran   \n",
       "1   60     1     True       True      True                     Shahran   \n",
       "2   79     2     True       True      True                      Pardis   \n",
       "3   95     2     True       True      True               Shahrake Qods   \n",
       "4  123     2     True       True      True              Shahrake Gharb   \n",
       "5   70     2     True       True     False  North Program Organization   \n",
       "6   87     2     True       True      True                      Pardis   \n",
       "7   59     1     True       True      True                     Shahran   \n",
       "8   54     2     True       True     False                    Andisheh   \n",
       "9   71     1     True       True      True      West Ferdows Boulevard   \n",
       "\n",
       "          Price  Price(USD)  \n",
       "0  1.850000e+09    61666.67  \n",
       "1  1.850000e+09    61666.67  \n",
       "2  5.500000e+08    18333.33  \n",
       "3  9.025000e+08    30083.33  \n",
       "4  7.000000e+09   233333.33  \n",
       "5  2.050000e+09    68333.33  \n",
       "6  6.000000e+08    20000.00  \n",
       "7  2.150000e+09    71666.67  \n",
       "8  4.930000e+08    16433.33  \n",
       "9  2.370000e+09    79000.00  "
      ]
     },
     "execution_count": 2,
     "metadata": {},
     "output_type": "execute_result"
    }
   ],
   "source": [
    "df = pd.read_csv(\"CSV_data/housePrice.csv\")\n",
    "df_org = df.copy()\n",
    "df.head(10)"
   ]
  },
  {
   "cell_type": "code",
   "execution_count": 38,
   "metadata": {},
   "outputs": [
    {
     "data": {
      "text/plain": [
       "193"
      ]
     },
     "execution_count": 38,
     "metadata": {},
     "output_type": "execute_result"
    }
   ],
   "source": [
    "len(df_org['Address'].unique())"
   ]
  },
  {
   "cell_type": "code",
   "execution_count": 3,
   "metadata": {},
   "outputs": [
    {
     "name": "stdout",
     "output_type": "stream",
     "text": [
      "<class 'pandas.core.frame.DataFrame'>\n",
      "RangeIndex: 3479 entries, 0 to 3478\n",
      "Data columns (total 8 columns):\n",
      " #   Column      Non-Null Count  Dtype  \n",
      "---  ------      --------------  -----  \n",
      " 0   Area        3479 non-null   object \n",
      " 1   Room        3479 non-null   int64  \n",
      " 2   Parking     3479 non-null   bool   \n",
      " 3   Warehouse   3479 non-null   bool   \n",
      " 4   Elevator    3479 non-null   bool   \n",
      " 5   Address     3456 non-null   object \n",
      " 6   Price       3479 non-null   float64\n",
      " 7   Price(USD)  3479 non-null   float64\n",
      "dtypes: bool(3), float64(2), int64(1), object(2)\n",
      "memory usage: 146.2+ KB\n"
     ]
    }
   ],
   "source": [
    "df.info()"
   ]
  },
  {
   "cell_type": "code",
   "execution_count": 4,
   "metadata": {},
   "outputs": [
    {
     "data": {
      "text/html": [
       "<div>\n",
       "<style scoped>\n",
       "    .dataframe tbody tr th:only-of-type {\n",
       "        vertical-align: middle;\n",
       "    }\n",
       "\n",
       "    .dataframe tbody tr th {\n",
       "        vertical-align: top;\n",
       "    }\n",
       "\n",
       "    .dataframe thead th {\n",
       "        text-align: right;\n",
       "    }\n",
       "</style>\n",
       "<table border=\"1\" class=\"dataframe\">\n",
       "  <thead>\n",
       "    <tr style=\"text-align: right;\">\n",
       "      <th></th>\n",
       "      <th>Room</th>\n",
       "      <th>Price</th>\n",
       "      <th>Price(USD)</th>\n",
       "    </tr>\n",
       "  </thead>\n",
       "  <tbody>\n",
       "    <tr>\n",
       "      <th>count</th>\n",
       "      <td>3479.000000</td>\n",
       "      <td>3.479000e+03</td>\n",
       "      <td>3.479000e+03</td>\n",
       "    </tr>\n",
       "    <tr>\n",
       "      <th>mean</th>\n",
       "      <td>2.079908</td>\n",
       "      <td>5.359023e+09</td>\n",
       "      <td>1.786341e+05</td>\n",
       "    </tr>\n",
       "    <tr>\n",
       "      <th>std</th>\n",
       "      <td>0.758275</td>\n",
       "      <td>8.099935e+09</td>\n",
       "      <td>2.699978e+05</td>\n",
       "    </tr>\n",
       "    <tr>\n",
       "      <th>min</th>\n",
       "      <td>0.000000</td>\n",
       "      <td>3.600000e+06</td>\n",
       "      <td>1.200000e+02</td>\n",
       "    </tr>\n",
       "    <tr>\n",
       "      <th>25%</th>\n",
       "      <td>2.000000</td>\n",
       "      <td>1.418250e+09</td>\n",
       "      <td>4.727500e+04</td>\n",
       "    </tr>\n",
       "    <tr>\n",
       "      <th>50%</th>\n",
       "      <td>2.000000</td>\n",
       "      <td>2.900000e+09</td>\n",
       "      <td>9.666667e+04</td>\n",
       "    </tr>\n",
       "    <tr>\n",
       "      <th>75%</th>\n",
       "      <td>2.000000</td>\n",
       "      <td>6.000000e+09</td>\n",
       "      <td>2.000000e+05</td>\n",
       "    </tr>\n",
       "    <tr>\n",
       "      <th>max</th>\n",
       "      <td>5.000000</td>\n",
       "      <td>9.240000e+10</td>\n",
       "      <td>3.080000e+06</td>\n",
       "    </tr>\n",
       "  </tbody>\n",
       "</table>\n",
       "</div>"
      ],
      "text/plain": [
       "              Room         Price    Price(USD)\n",
       "count  3479.000000  3.479000e+03  3.479000e+03\n",
       "mean      2.079908  5.359023e+09  1.786341e+05\n",
       "std       0.758275  8.099935e+09  2.699978e+05\n",
       "min       0.000000  3.600000e+06  1.200000e+02\n",
       "25%       2.000000  1.418250e+09  4.727500e+04\n",
       "50%       2.000000  2.900000e+09  9.666667e+04\n",
       "75%       2.000000  6.000000e+09  2.000000e+05\n",
       "max       5.000000  9.240000e+10  3.080000e+06"
      ]
     },
     "execution_count": 4,
     "metadata": {},
     "output_type": "execute_result"
    }
   ],
   "source": [
    "df.describe()"
   ]
  },
  {
   "cell_type": "code",
   "execution_count": 5,
   "metadata": {},
   "outputs": [],
   "source": [
    "df[\"Area\"] = pd.to_numeric(df[\"Area\"] , errors='coerce')"
   ]
  },
  {
   "cell_type": "code",
   "execution_count": 6,
   "metadata": {},
   "outputs": [
    {
     "name": "stdout",
     "output_type": "stream",
     "text": [
      "<class 'pandas.core.frame.DataFrame'>\n",
      "RangeIndex: 3479 entries, 0 to 3478\n",
      "Data columns (total 8 columns):\n",
      " #   Column      Non-Null Count  Dtype  \n",
      "---  ------      --------------  -----  \n",
      " 0   Area        3473 non-null   float64\n",
      " 1   Room        3479 non-null   int64  \n",
      " 2   Parking     3479 non-null   bool   \n",
      " 3   Warehouse   3479 non-null   bool   \n",
      " 4   Elevator    3479 non-null   bool   \n",
      " 5   Address     3456 non-null   object \n",
      " 6   Price       3479 non-null   float64\n",
      " 7   Price(USD)  3479 non-null   float64\n",
      "dtypes: bool(3), float64(3), int64(1), object(1)\n",
      "memory usage: 146.2+ KB\n"
     ]
    }
   ],
   "source": [
    "df.info()"
   ]
  },
  {
   "cell_type": "code",
   "execution_count": 7,
   "metadata": {},
   "outputs": [
    {
     "data": {
      "text/html": [
       "<div>\n",
       "<style scoped>\n",
       "    .dataframe tbody tr th:only-of-type {\n",
       "        vertical-align: middle;\n",
       "    }\n",
       "\n",
       "    .dataframe tbody tr th {\n",
       "        vertical-align: top;\n",
       "    }\n",
       "\n",
       "    .dataframe thead th {\n",
       "        text-align: right;\n",
       "    }\n",
       "</style>\n",
       "<table border=\"1\" class=\"dataframe\">\n",
       "  <thead>\n",
       "    <tr style=\"text-align: right;\">\n",
       "      <th></th>\n",
       "      <th>Area</th>\n",
       "      <th>Room</th>\n",
       "      <th>Parking</th>\n",
       "      <th>Warehouse</th>\n",
       "      <th>Elevator</th>\n",
       "      <th>Address</th>\n",
       "      <th>Price</th>\n",
       "      <th>Price(USD)</th>\n",
       "    </tr>\n",
       "  </thead>\n",
       "  <tbody>\n",
       "    <tr>\n",
       "      <th>43</th>\n",
       "      <td>60.0</td>\n",
       "      <td>2</td>\n",
       "      <td>True</td>\n",
       "      <td>True</td>\n",
       "      <td>True</td>\n",
       "      <td>NaN</td>\n",
       "      <td>2.650000e+09</td>\n",
       "      <td>88333.33</td>\n",
       "    </tr>\n",
       "    <tr>\n",
       "      <th>570</th>\n",
       "      <td>NaN</td>\n",
       "      <td>2</td>\n",
       "      <td>True</td>\n",
       "      <td>True</td>\n",
       "      <td>True</td>\n",
       "      <td>Ostad Moein</td>\n",
       "      <td>3.310000e+09</td>\n",
       "      <td>110333.33</td>\n",
       "    </tr>\n",
       "    <tr>\n",
       "      <th>662</th>\n",
       "      <td>85.0</td>\n",
       "      <td>2</td>\n",
       "      <td>True</td>\n",
       "      <td>True</td>\n",
       "      <td>True</td>\n",
       "      <td>NaN</td>\n",
       "      <td>1.955000e+09</td>\n",
       "      <td>65166.67</td>\n",
       "    </tr>\n",
       "    <tr>\n",
       "      <th>706</th>\n",
       "      <td>117.0</td>\n",
       "      <td>2</td>\n",
       "      <td>True</td>\n",
       "      <td>True</td>\n",
       "      <td>True</td>\n",
       "      <td>NaN</td>\n",
       "      <td>6.500000e+09</td>\n",
       "      <td>216666.67</td>\n",
       "    </tr>\n",
       "    <tr>\n",
       "      <th>709</th>\n",
       "      <td>NaN</td>\n",
       "      <td>3</td>\n",
       "      <td>True</td>\n",
       "      <td>True</td>\n",
       "      <td>True</td>\n",
       "      <td>Pasdaran</td>\n",
       "      <td>1.616000e+10</td>\n",
       "      <td>538666.67</td>\n",
       "    </tr>\n",
       "    <tr>\n",
       "      <th>807</th>\n",
       "      <td>NaN</td>\n",
       "      <td>2</td>\n",
       "      <td>True</td>\n",
       "      <td>True</td>\n",
       "      <td>False</td>\n",
       "      <td>Damavand</td>\n",
       "      <td>7.000000e+09</td>\n",
       "      <td>233333.33</td>\n",
       "    </tr>\n",
       "    <tr>\n",
       "      <th>1108</th>\n",
       "      <td>77.0</td>\n",
       "      <td>2</td>\n",
       "      <td>True</td>\n",
       "      <td>True</td>\n",
       "      <td>False</td>\n",
       "      <td>NaN</td>\n",
       "      <td>2.020000e+09</td>\n",
       "      <td>67333.33</td>\n",
       "    </tr>\n",
       "    <tr>\n",
       "      <th>1109</th>\n",
       "      <td>71.0</td>\n",
       "      <td>1</td>\n",
       "      <td>True</td>\n",
       "      <td>True</td>\n",
       "      <td>True</td>\n",
       "      <td>NaN</td>\n",
       "      <td>2.300000e+09</td>\n",
       "      <td>76666.67</td>\n",
       "    </tr>\n",
       "    <tr>\n",
       "      <th>1577</th>\n",
       "      <td>100.0</td>\n",
       "      <td>2</td>\n",
       "      <td>True</td>\n",
       "      <td>True</td>\n",
       "      <td>True</td>\n",
       "      <td>NaN</td>\n",
       "      <td>3.100000e+09</td>\n",
       "      <td>103333.33</td>\n",
       "    </tr>\n",
       "    <tr>\n",
       "      <th>1604</th>\n",
       "      <td>NaN</td>\n",
       "      <td>2</td>\n",
       "      <td>True</td>\n",
       "      <td>True</td>\n",
       "      <td>True</td>\n",
       "      <td>Gheitarieh</td>\n",
       "      <td>8.700000e+09</td>\n",
       "      <td>290000.00</td>\n",
       "    </tr>\n",
       "    <tr>\n",
       "      <th>1796</th>\n",
       "      <td>70.0</td>\n",
       "      <td>2</td>\n",
       "      <td>True</td>\n",
       "      <td>True</td>\n",
       "      <td>True</td>\n",
       "      <td>NaN</td>\n",
       "      <td>4.830000e+09</td>\n",
       "      <td>161000.00</td>\n",
       "    </tr>\n",
       "    <tr>\n",
       "      <th>2071</th>\n",
       "      <td>94.0</td>\n",
       "      <td>2</td>\n",
       "      <td>True</td>\n",
       "      <td>True</td>\n",
       "      <td>True</td>\n",
       "      <td>NaN</td>\n",
       "      <td>3.000000e+09</td>\n",
       "      <td>100000.00</td>\n",
       "    </tr>\n",
       "    <tr>\n",
       "      <th>2072</th>\n",
       "      <td>99.0</td>\n",
       "      <td>2</td>\n",
       "      <td>True</td>\n",
       "      <td>True</td>\n",
       "      <td>True</td>\n",
       "      <td>NaN</td>\n",
       "      <td>4.150000e+09</td>\n",
       "      <td>138333.33</td>\n",
       "    </tr>\n",
       "    <tr>\n",
       "      <th>2127</th>\n",
       "      <td>63.0</td>\n",
       "      <td>1</td>\n",
       "      <td>True</td>\n",
       "      <td>True</td>\n",
       "      <td>False</td>\n",
       "      <td>NaN</td>\n",
       "      <td>7.300000e+08</td>\n",
       "      <td>24333.33</td>\n",
       "    </tr>\n",
       "    <tr>\n",
       "      <th>2171</th>\n",
       "      <td>NaN</td>\n",
       "      <td>2</td>\n",
       "      <td>False</td>\n",
       "      <td>False</td>\n",
       "      <td>False</td>\n",
       "      <td>Shahryar</td>\n",
       "      <td>9.720000e+09</td>\n",
       "      <td>324000.00</td>\n",
       "    </tr>\n",
       "    <tr>\n",
       "      <th>2243</th>\n",
       "      <td>62.0</td>\n",
       "      <td>2</td>\n",
       "      <td>True</td>\n",
       "      <td>False</td>\n",
       "      <td>True</td>\n",
       "      <td>NaN</td>\n",
       "      <td>1.440000e+09</td>\n",
       "      <td>48000.00</td>\n",
       "    </tr>\n",
       "    <tr>\n",
       "      <th>2337</th>\n",
       "      <td>42.0</td>\n",
       "      <td>1</td>\n",
       "      <td>False</td>\n",
       "      <td>True</td>\n",
       "      <td>False</td>\n",
       "      <td>NaN</td>\n",
       "      <td>6.400000e+08</td>\n",
       "      <td>21333.33</td>\n",
       "    </tr>\n",
       "    <tr>\n",
       "      <th>2426</th>\n",
       "      <td>65.0</td>\n",
       "      <td>1</td>\n",
       "      <td>False</td>\n",
       "      <td>False</td>\n",
       "      <td>False</td>\n",
       "      <td>NaN</td>\n",
       "      <td>6.500000e+08</td>\n",
       "      <td>21666.67</td>\n",
       "    </tr>\n",
       "    <tr>\n",
       "      <th>2728</th>\n",
       "      <td>85.0</td>\n",
       "      <td>2</td>\n",
       "      <td>True</td>\n",
       "      <td>True</td>\n",
       "      <td>True</td>\n",
       "      <td>NaN</td>\n",
       "      <td>6.750000e+08</td>\n",
       "      <td>22500.00</td>\n",
       "    </tr>\n",
       "    <tr>\n",
       "      <th>2802</th>\n",
       "      <td>NaN</td>\n",
       "      <td>2</td>\n",
       "      <td>True</td>\n",
       "      <td>True</td>\n",
       "      <td>True</td>\n",
       "      <td>Central Janatabad</td>\n",
       "      <td>2.550000e+09</td>\n",
       "      <td>85000.00</td>\n",
       "    </tr>\n",
       "    <tr>\n",
       "      <th>3025</th>\n",
       "      <td>89.0</td>\n",
       "      <td>2</td>\n",
       "      <td>True</td>\n",
       "      <td>True</td>\n",
       "      <td>True</td>\n",
       "      <td>NaN</td>\n",
       "      <td>3.100000e+09</td>\n",
       "      <td>103333.33</td>\n",
       "    </tr>\n",
       "    <tr>\n",
       "      <th>3176</th>\n",
       "      <td>74.0</td>\n",
       "      <td>2</td>\n",
       "      <td>True</td>\n",
       "      <td>True</td>\n",
       "      <td>True</td>\n",
       "      <td>NaN</td>\n",
       "      <td>1.699010e+09</td>\n",
       "      <td>56633.67</td>\n",
       "    </tr>\n",
       "    <tr>\n",
       "      <th>3262</th>\n",
       "      <td>115.0</td>\n",
       "      <td>2</td>\n",
       "      <td>True</td>\n",
       "      <td>True</td>\n",
       "      <td>True</td>\n",
       "      <td>NaN</td>\n",
       "      <td>5.060000e+09</td>\n",
       "      <td>168666.67</td>\n",
       "    </tr>\n",
       "    <tr>\n",
       "      <th>3295</th>\n",
       "      <td>72.0</td>\n",
       "      <td>2</td>\n",
       "      <td>True</td>\n",
       "      <td>True</td>\n",
       "      <td>False</td>\n",
       "      <td>NaN</td>\n",
       "      <td>9.000000e+08</td>\n",
       "      <td>30000.00</td>\n",
       "    </tr>\n",
       "    <tr>\n",
       "      <th>3315</th>\n",
       "      <td>120.0</td>\n",
       "      <td>2</td>\n",
       "      <td>True</td>\n",
       "      <td>True</td>\n",
       "      <td>True</td>\n",
       "      <td>NaN</td>\n",
       "      <td>1.440000e+09</td>\n",
       "      <td>48000.00</td>\n",
       "    </tr>\n",
       "    <tr>\n",
       "      <th>3318</th>\n",
       "      <td>103.0</td>\n",
       "      <td>2</td>\n",
       "      <td>True</td>\n",
       "      <td>True</td>\n",
       "      <td>True</td>\n",
       "      <td>NaN</td>\n",
       "      <td>1.150000e+09</td>\n",
       "      <td>38333.33</td>\n",
       "    </tr>\n",
       "    <tr>\n",
       "      <th>3355</th>\n",
       "      <td>135.0</td>\n",
       "      <td>3</td>\n",
       "      <td>True</td>\n",
       "      <td>True</td>\n",
       "      <td>True</td>\n",
       "      <td>NaN</td>\n",
       "      <td>1.500000e+09</td>\n",
       "      <td>50000.00</td>\n",
       "    </tr>\n",
       "    <tr>\n",
       "      <th>3401</th>\n",
       "      <td>78.0</td>\n",
       "      <td>2</td>\n",
       "      <td>True</td>\n",
       "      <td>False</td>\n",
       "      <td>True</td>\n",
       "      <td>NaN</td>\n",
       "      <td>7.400000e+08</td>\n",
       "      <td>24666.67</td>\n",
       "    </tr>\n",
       "    <tr>\n",
       "      <th>3434</th>\n",
       "      <td>87.0</td>\n",
       "      <td>2</td>\n",
       "      <td>True</td>\n",
       "      <td>True</td>\n",
       "      <td>True</td>\n",
       "      <td>NaN</td>\n",
       "      <td>6.800000e+08</td>\n",
       "      <td>22666.67</td>\n",
       "    </tr>\n",
       "  </tbody>\n",
       "</table>\n",
       "</div>"
      ],
      "text/plain": [
       "       Area  Room  Parking  Warehouse  Elevator            Address  \\\n",
       "43     60.0     2     True       True      True                NaN   \n",
       "570     NaN     2     True       True      True        Ostad Moein   \n",
       "662    85.0     2     True       True      True                NaN   \n",
       "706   117.0     2     True       True      True                NaN   \n",
       "709     NaN     3     True       True      True           Pasdaran   \n",
       "807     NaN     2     True       True     False           Damavand   \n",
       "1108   77.0     2     True       True     False                NaN   \n",
       "1109   71.0     1     True       True      True                NaN   \n",
       "1577  100.0     2     True       True      True                NaN   \n",
       "1604    NaN     2     True       True      True         Gheitarieh   \n",
       "1796   70.0     2     True       True      True                NaN   \n",
       "2071   94.0     2     True       True      True                NaN   \n",
       "2072   99.0     2     True       True      True                NaN   \n",
       "2127   63.0     1     True       True     False                NaN   \n",
       "2171    NaN     2    False      False     False           Shahryar   \n",
       "2243   62.0     2     True      False      True                NaN   \n",
       "2337   42.0     1    False       True     False                NaN   \n",
       "2426   65.0     1    False      False     False                NaN   \n",
       "2728   85.0     2     True       True      True                NaN   \n",
       "2802    NaN     2     True       True      True  Central Janatabad   \n",
       "3025   89.0     2     True       True      True                NaN   \n",
       "3176   74.0     2     True       True      True                NaN   \n",
       "3262  115.0     2     True       True      True                NaN   \n",
       "3295   72.0     2     True       True     False                NaN   \n",
       "3315  120.0     2     True       True      True                NaN   \n",
       "3318  103.0     2     True       True      True                NaN   \n",
       "3355  135.0     3     True       True      True                NaN   \n",
       "3401   78.0     2     True      False      True                NaN   \n",
       "3434   87.0     2     True       True      True                NaN   \n",
       "\n",
       "             Price  Price(USD)  \n",
       "43    2.650000e+09    88333.33  \n",
       "570   3.310000e+09   110333.33  \n",
       "662   1.955000e+09    65166.67  \n",
       "706   6.500000e+09   216666.67  \n",
       "709   1.616000e+10   538666.67  \n",
       "807   7.000000e+09   233333.33  \n",
       "1108  2.020000e+09    67333.33  \n",
       "1109  2.300000e+09    76666.67  \n",
       "1577  3.100000e+09   103333.33  \n",
       "1604  8.700000e+09   290000.00  \n",
       "1796  4.830000e+09   161000.00  \n",
       "2071  3.000000e+09   100000.00  \n",
       "2072  4.150000e+09   138333.33  \n",
       "2127  7.300000e+08    24333.33  \n",
       "2171  9.720000e+09   324000.00  \n",
       "2243  1.440000e+09    48000.00  \n",
       "2337  6.400000e+08    21333.33  \n",
       "2426  6.500000e+08    21666.67  \n",
       "2728  6.750000e+08    22500.00  \n",
       "2802  2.550000e+09    85000.00  \n",
       "3025  3.100000e+09   103333.33  \n",
       "3176  1.699010e+09    56633.67  \n",
       "3262  5.060000e+09   168666.67  \n",
       "3295  9.000000e+08    30000.00  \n",
       "3315  1.440000e+09    48000.00  \n",
       "3318  1.150000e+09    38333.33  \n",
       "3355  1.500000e+09    50000.00  \n",
       "3401  7.400000e+08    24666.67  \n",
       "3434  6.800000e+08    22666.67  "
      ]
     },
     "execution_count": 7,
     "metadata": {},
     "output_type": "execute_result"
    }
   ],
   "source": [
    "def nans(df): return df[df.isnull().any(axis=1)]\n",
    "nans(df)\n",
    "\n"
   ]
  },
  {
   "cell_type": "code",
   "execution_count": 8,
   "metadata": {},
   "outputs": [
    {
     "name": "stdout",
     "output_type": "stream",
     "text": [
      "The index of nulls in Area is :[ 570  709  807 1604 2171 2802]\n",
      " 3,310,000,000 \n",
      " 16,160,000,000 \n",
      " 1,000 \n",
      " 8,400,000,000 \n",
      " 3,600 \n",
      " 2,550,000,000 \n"
     ]
    }
   ],
   "source": [
    "#Showing the values that caused the Area column to become an object\n",
    "\n",
    "nulls_Area_index = np.where(df[\"Area\"].isna())[0]\n",
    "print(f\"The index of nulls in Area is :{nulls_Area_index}\")\n",
    "for index in nulls_Area_index:\n",
    "    print(df_org.Area[index])"
   ]
  },
  {
   "cell_type": "code",
   "execution_count": 9,
   "metadata": {},
   "outputs": [
    {
     "data": {
      "text/plain": [
       "dtype('int64')"
      ]
     },
     "execution_count": 9,
     "metadata": {},
     "output_type": "execute_result"
    }
   ],
   "source": [
    "df['Area'] = df_org['Area'].apply(lambda X : re.sub(',','',X))\n",
    "df[\"Area\"] = pd.to_numeric(df[\"Area\"] , errors='coerce')\n",
    "df.Area.dtype"
   ]
  },
  {
   "cell_type": "code",
   "execution_count": 10,
   "metadata": {},
   "outputs": [
    {
     "data": {
      "text/plain": [
       "Area           0\n",
       "Room           0\n",
       "Parking        0\n",
       "Warehouse      0\n",
       "Elevator       0\n",
       "Address       23\n",
       "Price          0\n",
       "Price(USD)     0\n",
       "dtype: int64"
      ]
     },
     "execution_count": 10,
     "metadata": {},
     "output_type": "execute_result"
    }
   ],
   "source": [
    "df.isnull().sum()"
   ]
  },
  {
   "cell_type": "code",
   "execution_count": 11,
   "metadata": {},
   "outputs": [
    {
     "data": {
      "text/plain": [
       "0"
      ]
     },
     "execution_count": 11,
     "metadata": {},
     "output_type": "execute_result"
    }
   ],
   "source": [
    "# drop missing value of Address becuase is important param that irreplacable\n",
    "df.dropna(subset=['Address'], inplace=True)\n",
    "df.reset_index(drop=True,inplace=True)\n",
    "df.isnull().sum().sum()"
   ]
  },
  {
   "cell_type": "code",
   "execution_count": 12,
   "metadata": {},
   "outputs": [
    {
     "data": {
      "text/plain": [
       "(3456, 8)"
      ]
     },
     "execution_count": 12,
     "metadata": {},
     "output_type": "execute_result"
    }
   ],
   "source": [
    "df.shape"
   ]
  },
  {
   "cell_type": "code",
   "execution_count": 13,
   "metadata": {},
   "outputs": [
    {
     "data": {
      "text/plain": [
       "Parking\n",
       "True     84.751157\n",
       "False    15.248843\n",
       "Name: proportion, dtype: float64"
      ]
     },
     "execution_count": 13,
     "metadata": {},
     "output_type": "execute_result"
    }
   ],
   "source": [
    "df['Parking'].value_counts(normalize = True)*100\n"
   ]
  },
  {
   "cell_type": "code",
   "execution_count": 14,
   "metadata": {},
   "outputs": [
    {
     "data": {
      "text/html": [
       "<div>\n",
       "<style scoped>\n",
       "    .dataframe tbody tr th:only-of-type {\n",
       "        vertical-align: middle;\n",
       "    }\n",
       "\n",
       "    .dataframe tbody tr th {\n",
       "        vertical-align: top;\n",
       "    }\n",
       "\n",
       "    .dataframe thead th {\n",
       "        text-align: right;\n",
       "    }\n",
       "</style>\n",
       "<table border=\"1\" class=\"dataframe\">\n",
       "  <thead>\n",
       "    <tr style=\"text-align: right;\">\n",
       "      <th>Room</th>\n",
       "      <th>0</th>\n",
       "      <th>1</th>\n",
       "      <th>2</th>\n",
       "      <th>3</th>\n",
       "      <th>4</th>\n",
       "      <th>5</th>\n",
       "    </tr>\n",
       "    <tr>\n",
       "      <th>Parking</th>\n",
       "      <th></th>\n",
       "      <th></th>\n",
       "      <th></th>\n",
       "      <th></th>\n",
       "      <th></th>\n",
       "      <th></th>\n",
       "    </tr>\n",
       "  </thead>\n",
       "  <tbody>\n",
       "    <tr>\n",
       "      <th>False</th>\n",
       "      <td>8</td>\n",
       "      <td>243</td>\n",
       "      <td>244</td>\n",
       "      <td>26</td>\n",
       "      <td>1</td>\n",
       "      <td>5</td>\n",
       "    </tr>\n",
       "    <tr>\n",
       "      <th>True</th>\n",
       "      <td>2</td>\n",
       "      <td>426</td>\n",
       "      <td>1699</td>\n",
       "      <td>705</td>\n",
       "      <td>69</td>\n",
       "      <td>28</td>\n",
       "    </tr>\n",
       "  </tbody>\n",
       "</table>\n",
       "</div>"
      ],
      "text/plain": [
       "Room     0    1     2    3   4   5\n",
       "Parking                           \n",
       "False    8  243   244   26   1   5\n",
       "True     2  426  1699  705  69  28"
      ]
     },
     "execution_count": 14,
     "metadata": {},
     "output_type": "execute_result"
    }
   ],
   "source": [
    "pd.crosstab(df['Parking'],df['Room'])"
   ]
  },
  {
   "cell_type": "code",
   "execution_count": 15,
   "metadata": {},
   "outputs": [
    {
     "data": {
      "text/plain": [
       "(array(['Shahran', 'Pardis', 'Shahrake Qods', 'Shahrake Gharb',\n",
       "        'North Program Organization', 'Andisheh', 'West Ferdows Boulevard',\n",
       "        'Narmak', 'Saadat Abad', 'Zafar', 'Islamshahr', 'Pirouzi',\n",
       "        'Shahrake Shahid Bagheri', 'Moniriyeh', 'Velenjak', 'Amirieh',\n",
       "        'Southern Janatabad', 'Salsabil', 'Zargandeh', 'Feiz Garden',\n",
       "        'Water Organization', 'ShahrAra', 'Gisha', 'Ray', 'Abbasabad',\n",
       "        'Ostad Moein', 'Farmanieh', 'Parand', 'Punak', 'Qasr-od-Dasht',\n",
       "        'Aqdasieh', 'Pakdasht', 'Railway', 'Central Janatabad',\n",
       "        'East Ferdows Boulevard', 'Pakdasht KhatunAbad', 'Sattarkhan',\n",
       "        'Baghestan', 'Shahryar', 'Northern Janatabad', 'Daryan No',\n",
       "        'Southern Program Organization', 'Rudhen', 'West Pars', 'Afsarieh',\n",
       "        'Marzdaran', 'Dorous', 'Sadeghieh', 'Chahardangeh', 'Baqershahr',\n",
       "        'Jeyhoon', 'Lavizan', 'Shams Abad', 'Fatemi',\n",
       "        'Keshavarz Boulevard', 'Kahrizak', 'Qarchak',\n",
       "        'Northren Jamalzadeh', 'Azarbaijan', 'Bahar',\n",
       "        'Persian Gulf Martyrs Lake', 'Beryanak', 'Heshmatieh',\n",
       "        'Elm-o-Sanat', 'Golestan', 'Shahr-e-Ziba', 'Pasdaran',\n",
       "        'Chardivari', 'Gheitarieh', 'Kamranieh', 'Gholhak', 'Heravi',\n",
       "        'Hashemi', 'Dehkade Olampic', 'Damavand', 'Republic', 'Zaferanieh',\n",
       "        'Qazvin Imamzadeh Hassan', 'Niavaran', 'Valiasr', 'Qalandari',\n",
       "        'Amir Bahador', 'Ekhtiarieh', 'Ekbatan', 'Absard', 'Haft Tir',\n",
       "        'Mahallati', 'Ozgol', 'Tajrish', 'Abazar', 'Koohsar', 'Hekmat',\n",
       "        'Parastar', 'Lavasan', 'Majidieh', 'Southern Chitgar', 'Karimkhan',\n",
       "        'Si Metri Ji', 'Karoon', 'Northern Chitgar', 'East Pars', 'Kook',\n",
       "        'Air force', 'Sohanak', 'Komeil', 'Azadshahr', 'Zibadasht',\n",
       "        'Amirabad', 'Dezashib', 'Elahieh', 'Mirdamad', 'Razi', 'Jordan',\n",
       "        'Mahmoudieh', 'Shahedshahr', 'Yaftabad', 'Mehran', 'Nasim Shahr',\n",
       "        'Tenant', 'Chardangeh', 'Fallah', 'Eskandari', 'Shahrakeh Naft',\n",
       "        'Ajudaniye', 'Tehransar', 'Nawab', 'Yousef Abad',\n",
       "        'Northern Suhrawardi', 'Villa', 'Hakimiyeh', 'Nezamabad',\n",
       "        'Garden of Saba', 'Tarasht', 'Azari', 'Shahrake Apadana', 'Araj',\n",
       "        'Vahidieh', 'Malard', 'Shahrake Azadi', 'Darband', 'Vanak',\n",
       "        'Tehran Now', 'Darabad', 'Eram', 'Atabak', 'Sabalan', 'SabaShahr',\n",
       "        'Shahrake Madaen', 'Waterfall', 'Ahang', 'Salehabad', 'Pishva',\n",
       "        'Enghelab', 'Islamshahr Elahieh', 'Ray - Montazeri',\n",
       "        'Firoozkooh Kuhsar', 'Ghoba', 'Mehrabad', 'Southern Suhrawardi',\n",
       "        'Abuzar', 'Dolatabad', 'Hor Square', 'Taslihat', 'Kazemabad',\n",
       "        'Robat Karim', 'Ray - Pilgosh', 'Ghiyamdasht', 'Telecommunication',\n",
       "        'Mirza Shirazi', 'Gandhi', 'Argentina', 'Seyed Khandan',\n",
       "        'Shahrake Quds', 'Safadasht', 'Khademabad Garden', 'Hassan Abad',\n",
       "        'Chidz', 'Khavaran', 'Boloorsazi', 'Mehrabad River River',\n",
       "        'Varamin - Beheshti', 'Shoosh', 'Thirteen November', 'Darakeh',\n",
       "        'Aliabad South', 'Alborz Complex', 'Firoozkooh', 'Vahidiyeh',\n",
       "        'Shadabad', 'Naziabad', 'Javadiyeh', 'Yakhchiabad'], dtype=object),\n",
       " 192)"
      ]
     },
     "execution_count": 15,
     "metadata": {},
     "output_type": "execute_result"
    }
   ],
   "source": [
    "df['Address'].unique(),len(df['Address'].unique())\n"
   ]
  },
  {
   "cell_type": "code",
   "execution_count": 16,
   "metadata": {},
   "outputs": [],
   "source": [
    "pd.set_option('display.float_format', lambda x: '%.f' % x)"
   ]
  },
  {
   "cell_type": "code",
   "execution_count": 17,
   "metadata": {},
   "outputs": [
    {
     "data": {
      "text/html": [
       "<div>\n",
       "<style scoped>\n",
       "    .dataframe tbody tr th:only-of-type {\n",
       "        vertical-align: middle;\n",
       "    }\n",
       "\n",
       "    .dataframe tbody tr th {\n",
       "        vertical-align: top;\n",
       "    }\n",
       "\n",
       "    .dataframe thead th {\n",
       "        text-align: right;\n",
       "    }\n",
       "</style>\n",
       "<table border=\"1\" class=\"dataframe\">\n",
       "  <thead>\n",
       "    <tr style=\"text-align: right;\">\n",
       "      <th></th>\n",
       "      <th>Area</th>\n",
       "      <th>Room</th>\n",
       "      <th>Parking</th>\n",
       "      <th>Warehouse</th>\n",
       "      <th>Elevator</th>\n",
       "      <th>Address</th>\n",
       "      <th>Price</th>\n",
       "      <th>Price(USD)</th>\n",
       "    </tr>\n",
       "  </thead>\n",
       "  <tbody>\n",
       "    <tr>\n",
       "      <th>1966</th>\n",
       "      <td>500</td>\n",
       "      <td>4</td>\n",
       "      <td>True</td>\n",
       "      <td>True</td>\n",
       "      <td>False</td>\n",
       "      <td>Damavand</td>\n",
       "      <td>20000000000</td>\n",
       "      <td>666667</td>\n",
       "    </tr>\n",
       "    <tr>\n",
       "      <th>1614</th>\n",
       "      <td>88</td>\n",
       "      <td>2</td>\n",
       "      <td>True</td>\n",
       "      <td>True</td>\n",
       "      <td>True</td>\n",
       "      <td>Punak</td>\n",
       "      <td>2980000000</td>\n",
       "      <td>99333</td>\n",
       "    </tr>\n",
       "  </tbody>\n",
       "</table>\n",
       "</div>"
      ],
      "text/plain": [
       "      Area  Room  Parking  Warehouse  Elevator   Address       Price  \\\n",
       "1966   500     4     True       True     False  Damavand 20000000000   \n",
       "1614    88     2     True       True      True     Punak  2980000000   \n",
       "\n",
       "      Price(USD)  \n",
       "1966      666667  \n",
       "1614       99333  "
      ]
     },
     "execution_count": 17,
     "metadata": {},
     "output_type": "execute_result"
    }
   ],
   "source": [
    "df.sample(2)"
   ]
  },
  {
   "cell_type": "code",
   "execution_count": 18,
   "metadata": {},
   "outputs": [
    {
     "data": {
      "text/html": [
       "<div>\n",
       "<style scoped>\n",
       "    .dataframe tbody tr th:only-of-type {\n",
       "        vertical-align: middle;\n",
       "    }\n",
       "\n",
       "    .dataframe tbody tr th {\n",
       "        vertical-align: top;\n",
       "    }\n",
       "\n",
       "    .dataframe thead th {\n",
       "        text-align: right;\n",
       "    }\n",
       "</style>\n",
       "<table border=\"1\" class=\"dataframe\">\n",
       "  <thead>\n",
       "    <tr style=\"text-align: right;\">\n",
       "      <th></th>\n",
       "      <th>Area</th>\n",
       "      <th>Room</th>\n",
       "      <th>Parking</th>\n",
       "      <th>Warehouse</th>\n",
       "      <th>Elevator</th>\n",
       "      <th>Address</th>\n",
       "      <th>Price</th>\n",
       "      <th>Price(USD)</th>\n",
       "    </tr>\n",
       "  </thead>\n",
       "  <tbody>\n",
       "    <tr>\n",
       "      <th>0</th>\n",
       "      <td>63</td>\n",
       "      <td>1</td>\n",
       "      <td>True</td>\n",
       "      <td>True</td>\n",
       "      <td>True</td>\n",
       "      <td>Shahran</td>\n",
       "      <td>1,850,000,000</td>\n",
       "      <td>61667</td>\n",
       "    </tr>\n",
       "    <tr>\n",
       "      <th>1</th>\n",
       "      <td>60</td>\n",
       "      <td>1</td>\n",
       "      <td>True</td>\n",
       "      <td>True</td>\n",
       "      <td>True</td>\n",
       "      <td>Shahran</td>\n",
       "      <td>1,850,000,000</td>\n",
       "      <td>61667</td>\n",
       "    </tr>\n",
       "    <tr>\n",
       "      <th>2</th>\n",
       "      <td>79</td>\n",
       "      <td>2</td>\n",
       "      <td>True</td>\n",
       "      <td>True</td>\n",
       "      <td>True</td>\n",
       "      <td>Pardis</td>\n",
       "      <td>550,000,000</td>\n",
       "      <td>18333</td>\n",
       "    </tr>\n",
       "    <tr>\n",
       "      <th>3</th>\n",
       "      <td>95</td>\n",
       "      <td>2</td>\n",
       "      <td>True</td>\n",
       "      <td>True</td>\n",
       "      <td>True</td>\n",
       "      <td>Shahrake Qods</td>\n",
       "      <td>902,500,000</td>\n",
       "      <td>30083</td>\n",
       "    </tr>\n",
       "    <tr>\n",
       "      <th>4</th>\n",
       "      <td>123</td>\n",
       "      <td>2</td>\n",
       "      <td>True</td>\n",
       "      <td>True</td>\n",
       "      <td>True</td>\n",
       "      <td>Shahrake Gharb</td>\n",
       "      <td>7,000,000,000</td>\n",
       "      <td>233333</td>\n",
       "    </tr>\n",
       "  </tbody>\n",
       "</table>\n",
       "</div>"
      ],
      "text/plain": [
       "  Area  Room  Parking  Warehouse  Elevator         Address          Price  \\\n",
       "0   63     1     True       True      True         Shahran  1,850,000,000   \n",
       "1   60     1     True       True      True         Shahran  1,850,000,000   \n",
       "2   79     2     True       True      True          Pardis    550,000,000   \n",
       "3   95     2     True       True      True   Shahrake Qods    902,500,000   \n",
       "4  123     2     True       True      True  Shahrake Gharb  7,000,000,000   \n",
       "\n",
       "   Price(USD)  \n",
       "0       61667  \n",
       "1       61667  \n",
       "2       18333  \n",
       "3       30083  \n",
       "4      233333  "
      ]
     },
     "execution_count": 18,
     "metadata": {},
     "output_type": "execute_result"
    }
   ],
   "source": [
    "df_org.loc[:, \"Price\"] =df[\"Price\"].map('{:,.0f}'.format)\n",
    "df_org.head()"
   ]
  },
  {
   "cell_type": "code",
   "execution_count": 19,
   "metadata": {},
   "outputs": [
    {
     "data": {
      "text/plain": [
       "Parking  Room\n",
       "False    0       9769750000\n",
       "         1       1139677778\n",
       "         2       1501674180\n",
       "         3       5107865385\n",
       "         4       6200000000\n",
       "         5       9999000000\n",
       "True     0        223500000\n",
       "         1       2031368545\n",
       "         2       3592919541\n",
       "         3      11153730496\n",
       "         4      25881492754\n",
       "         5      37972857143\n",
       "Name: Price, dtype: float64"
      ]
     },
     "execution_count": 19,
     "metadata": {},
     "output_type": "execute_result"
    }
   ],
   "source": [
    "df.groupby(['Parking','Room'])['Price'].mean()"
   ]
  },
  {
   "cell_type": "code",
   "execution_count": 20,
   "metadata": {},
   "outputs": [
    {
     "data": {
      "text/plain": [
       "Elevator  Warehouse\n",
       "False     False       3139762937\n",
       "          True        3761436318\n",
       "True      False       1846046358\n",
       "          True        6085066770\n",
       "Name: Price, dtype: float64"
      ]
     },
     "execution_count": 20,
     "metadata": {},
     "output_type": "execute_result"
    }
   ],
   "source": [
    "df.groupby(['Elevator','Warehouse'])['Price'].mean()"
   ]
  },
  {
   "cell_type": "markdown",
   "metadata": {},
   "source": [
    "## Visualization"
   ]
  },
  {
   "cell_type": "code",
   "execution_count": null,
   "metadata": {},
   "outputs": [
    {
     "data": {
      "text/plain": [
       "Index(['Area', 'Room', 'Parking', 'Warehouse', 'Elevator', 'Address', 'Price',\n",
       "       'Price(USD)'],\n",
       "      dtype='object')"
      ]
     },
     "execution_count": 30,
     "metadata": {},
     "output_type": "execute_result"
    }
   ],
   "source": [
    "df.columns"
   ]
  },
  {
   "cell_type": "code",
   "execution_count": null,
   "metadata": {},
   "outputs": [
    {
     "data": {
      "image/png": "[encoded data removed]",
      "text/plain": [
       "<Figure size 640x480 with 2 Axes>"
      ]
     },
     "metadata": {},
     "output_type": "display_data"
    }
   ],
   "source": [
    "sns.heatmap(df.drop('Address',axis='columns',inplace=False).corr(), annot=True)\n",
    "plt.show()"
   ]
  },
  {
   "cell_type": "code",
   "execution_count": null,
   "metadata": {},
   "outputs": [
    {
     "data": {
      "image/png": "[encoded data removed]",
      "text/plain": [
       "<Figure size 640x480 with 1 Axes>"
      ]
     },
     "metadata": {},
     "output_type": "display_data"
    }
   ],
   "source": [
    "sns.barplot(df, x=df.Room, y=df.Price)\n",
    "plt.show()"
   ]
  },
  {
   "cell_type": "code",
   "execution_count": null,
   "metadata": {},
   "outputs": [
    {
     "data": {
      "text/plain": [
       "<Axes: xlabel='Price', ylabel='Count'>"
      ]
     },
     "execution_count": 33,
     "metadata": {},
     "output_type": "execute_result"
    },
    {
     "data": {
      "image/png": "[encoded data removed]",
      "text/plain": [
       "<Figure size 640x480 with 1 Axes>"
      ]
     },
     "metadata": {},
     "output_type": "display_data"
    }
   ],
   "source": [
    "sns.histplot(df['Price'], kde=True)"
   ]
  },
  {
   "cell_type": "code",
   "execution_count": null,
   "metadata": {},
   "outputs": [
    {
     "data": {
      "image/png": "[encoded data removed]",
      "text/plain": [
       "<Figure size 1800x600 with 3 Axes>"
      ]
     },
     "metadata": {},
     "output_type": "display_data"
    }
   ],
   "source": [
    "fig, ax = plt.subplots(ncols=3, figsize=(18,6))\n",
    "\n",
    "colors = [['#ADEFD1FF', '#00203FFF'], ['#97BC62FF', '#2C5F2D'], ['#F5C7B8FF', '#FFA177FF']]\n",
    "explode = [0, 0.2]\n",
    "columns = ['Parking', 'Warehouse', 'Elevator']\n",
    "for i in range(3):\n",
    "        data = df[columns[i]].value_counts()\n",
    "        ax[i].pie(data, labels=data.values, explode=explode, colors=colors[i], shadow=True)\n",
    "        ax[i].legend(labels=data.index, fontsize='large')\n",
    "        ax[i].set_title('{} distribution'.format(columns[i]))"
   ]
  },
  {
   "cell_type": "code",
   "execution_count": null,
   "metadata": {},
   "outputs": [
    {
     "data": {
      "image/png": "[encoded data removed]",
      "text/plain": [
       "<Figure size 500x500 with 1 Axes>"
      ]
     },
     "metadata": {},
     "output_type": "display_data"
    }
   ],
   "source": [
    "ax = sns.displot(x=df['Address'].head(20), y=df.Price)\n",
    "ax.set_xticklabels(rotation=40, ha=\"right\")\n",
    "plt.tight_layout()\n",
    "plt.show()"
   ]
  },
  {
   "cell_type": "markdown",
   "metadata": {},
   "source": [
    "#  Preprocessing #"
   ]
  },
  {
   "cell_type": "code",
   "execution_count": 21,
   "metadata": {},
   "outputs": [
    {
     "data": {
      "text/plain": [
       "Area            int64\n",
       "Room            int64\n",
       "Parking          bool\n",
       "Warehouse        bool\n",
       "Elevator         bool\n",
       "Address        object\n",
       "Price         float64\n",
       "Price(USD)    float64\n",
       "dtype: object"
      ]
     },
     "execution_count": 21,
     "metadata": {},
     "output_type": "execute_result"
    }
   ],
   "source": [
    "df.dtypes"
   ]
  },
  {
   "cell_type": "code",
   "execution_count": 22,
   "metadata": {},
   "outputs": [
    {
     "data": {
      "text/html": [
       "<div>\n",
       "<style scoped>\n",
       "    .dataframe tbody tr th:only-of-type {\n",
       "        vertical-align: middle;\n",
       "    }\n",
       "\n",
       "    .dataframe tbody tr th {\n",
       "        vertical-align: top;\n",
       "    }\n",
       "\n",
       "    .dataframe thead th {\n",
       "        text-align: right;\n",
       "    }\n",
       "</style>\n",
       "<table border=\"1\" class=\"dataframe\">\n",
       "  <thead>\n",
       "    <tr style=\"text-align: right;\">\n",
       "      <th></th>\n",
       "      <th>Area</th>\n",
       "      <th>Room</th>\n",
       "      <th>Parking</th>\n",
       "      <th>Warehouse</th>\n",
       "      <th>Elevator</th>\n",
       "      <th>Address</th>\n",
       "      <th>Price</th>\n",
       "    </tr>\n",
       "  </thead>\n",
       "  <tbody>\n",
       "    <tr>\n",
       "      <th>1805</th>\n",
       "      <td>87</td>\n",
       "      <td>2</td>\n",
       "      <td>1</td>\n",
       "      <td>1</td>\n",
       "      <td>1</td>\n",
       "      <td>Pardis</td>\n",
       "      <td>570000000</td>\n",
       "    </tr>\n",
       "    <tr>\n",
       "      <th>2982</th>\n",
       "      <td>83</td>\n",
       "      <td>2</td>\n",
       "      <td>1</td>\n",
       "      <td>1</td>\n",
       "      <td>1</td>\n",
       "      <td>Shahran</td>\n",
       "      <td>3200000000</td>\n",
       "    </tr>\n",
       "    <tr>\n",
       "      <th>3167</th>\n",
       "      <td>190</td>\n",
       "      <td>3</td>\n",
       "      <td>1</td>\n",
       "      <td>1</td>\n",
       "      <td>1</td>\n",
       "      <td>Niavaran</td>\n",
       "      <td>15200000000</td>\n",
       "    </tr>\n",
       "    <tr>\n",
       "      <th>2029</th>\n",
       "      <td>84</td>\n",
       "      <td>2</td>\n",
       "      <td>1</td>\n",
       "      <td>1</td>\n",
       "      <td>1</td>\n",
       "      <td>Gheitarieh</td>\n",
       "      <td>7400000000</td>\n",
       "    </tr>\n",
       "    <tr>\n",
       "      <th>1414</th>\n",
       "      <td>75</td>\n",
       "      <td>2</td>\n",
       "      <td>1</td>\n",
       "      <td>1</td>\n",
       "      <td>1</td>\n",
       "      <td>Punak</td>\n",
       "      <td>2980000000</td>\n",
       "    </tr>\n",
       "  </tbody>\n",
       "</table>\n",
       "</div>"
      ],
      "text/plain": [
       "      Area  Room  Parking  Warehouse  Elevator     Address       Price\n",
       "1805    87     2        1          1         1      Pardis   570000000\n",
       "2982    83     2        1          1         1     Shahran  3200000000\n",
       "3167   190     3        1          1         1    Niavaran 15200000000\n",
       "2029    84     2        1          1         1  Gheitarieh  7400000000\n",
       "1414    75     2        1          1         1       Punak  2980000000"
      ]
     },
     "execution_count": 22,
     "metadata": {},
     "output_type": "execute_result"
    }
   ],
   "source": [
    "df.drop(columns = ['Price(USD)'], inplace=True)\n",
    "# Price USD and Price have same effect and I drop it\n",
    "Boolean_ft = ['Parking','Warehouse','Elevator']\n",
    "\n",
    "df[Boolean_ft] = df[Boolean_ft].astype('int64')\n",
    "\n",
    "df.sample(5)"
   ]
  },
  {
   "cell_type": "code",
   "execution_count": 23,
   "metadata": {},
   "outputs": [
    {
     "name": "stdout",
     "output_type": "stream",
     "text": [
      "skew feature: \n",
      " Area        44\n",
      "Room         1\n",
      "Parking     -2\n",
      "Warehouse   -3\n",
      "Elevator    -1\n",
      "Price        5\n",
      "dtype: float64\n"
     ]
    }
   ],
   "source": [
    "print(\"skew feature: \\n\",df.drop('Address',axis='columns',inplace=False).skew())"
   ]
  },
  {
   "cell_type": "code",
   "execution_count": 24,
   "metadata": {},
   "outputs": [
    {
     "data": {
      "image/png": "[encoded data removed]",
      "text/plain": [
       "<Figure size 1600x800 with 2 Axes>"
      ]
     },
     "metadata": {},
     "output_type": "display_data"
    }
   ],
   "source": [
    "plt.figure(figsize = (16,8))\n",
    "\n",
    "plt.subplot(2,1,1)\n",
    "sns.boxplot(x = df['Area'])\n",
    "\n",
    "plt.subplot(2,1,2)\n",
    "sns.boxplot(x = df['Price'])\n",
    "plt.show()"
   ]
  },
  {
   "cell_type": "code",
   "execution_count": 25,
   "metadata": {},
   "outputs": [
    {
     "name": "stdout",
     "output_type": "stream",
     "text": [
      "Lower limit for area: -9.00\n",
      "Upper limit for area: 199.00\n",
      "Lower limit for price: -5,450,000,000.0\n",
      "Upper limit for price: 12,870,000,000.0\n"
     ]
    }
   ],
   "source": [
    "#show outlier of boxplot\n",
    "def lower_upper(x):\n",
    "    Q1 = np.percentile(x, 25)\n",
    "    Q3 = np.percentile(x, 75)\n",
    "    IQR = Q3 - Q1\n",
    "    lower = Q1 - 1.5 * IQR\n",
    "    upper = Q3 + 1.5 * IQR\n",
    "    \n",
    "    return lower, upper\n",
    "\n",
    "lower_area, upper_area = lower_upper(df['Area'])\n",
    "lower_price, upper_price = lower_upper(df['Price'])\n",
    "\n",
    "print(f\"Lower limit for area: {lower_area:0.2f}\")\n",
    "print(f\"Upper limit for area: {upper_area:0.2f}\")\n",
    "print(f\"Lower limit for price: {lower_price:,}\")\n",
    "print(f\"Upper limit for price: {upper_price:,}\")"
   ]
  },
  {
   "cell_type": "code",
   "execution_count": 26,
   "metadata": {},
   "outputs": [
    {
     "name": "stdout",
     "output_type": "stream",
     "text": [
      "this dataset have 366 outliers\n",
      " before (3456, 7)\n",
      "after drop outliers(3090, 7)\n"
     ]
    }
   ],
   "source": [
    "#total outlier and drop them\n",
    "areaOutliers = np.where(df.Area>upper_area)\n",
    "priceOutliers = np.where(df.Price>upper_price)\n",
    "totalOutliers = np.union1d(areaOutliers, priceOutliers)\n",
    "print(f\"this dataset have {len(totalOutliers)} outliers\\n\",f\"before {df.shape}\")\n",
    "\n",
    "df.drop(totalOutliers, axis=0, inplace =True)\n",
    "df.reset_index(drop=True,inplace=True)\n",
    "print(f\"after drop outliers{df.shape}\")"
   ]
  },
  {
   "cell_type": "code",
   "execution_count": 27,
   "metadata": {},
   "outputs": [
    {
     "name": "stdout",
     "output_type": "stream",
     "text": [
      "skew feature after drop outliers: \n",
      " Area         1\n",
      "Room         0\n",
      "Parking     -2\n",
      "Warehouse   -3\n",
      "Elevator    -1\n",
      "Price        1\n",
      "dtype: float64\n"
     ]
    }
   ],
   "source": [
    "print(\"skew feature after drop outliers: \\n\",df.drop('Address',axis='columns',inplace=False).skew())"
   ]
  },
  {
   "cell_type": "code",
   "execution_count": 28,
   "metadata": {},
   "outputs": [
    {
     "data": {
      "text/html": [
       "<div>\n",
       "<style scoped>\n",
       "    .dataframe tbody tr th:only-of-type {\n",
       "        vertical-align: middle;\n",
       "    }\n",
       "\n",
       "    .dataframe tbody tr th {\n",
       "        vertical-align: top;\n",
       "    }\n",
       "\n",
       "    .dataframe thead th {\n",
       "        text-align: right;\n",
       "    }\n",
       "</style>\n",
       "<table border=\"1\" class=\"dataframe\">\n",
       "  <thead>\n",
       "    <tr style=\"text-align: right;\">\n",
       "      <th></th>\n",
       "      <th>Area</th>\n",
       "      <th>Room</th>\n",
       "      <th>Parking</th>\n",
       "      <th>Warehouse</th>\n",
       "      <th>Elevator</th>\n",
       "      <th>Price</th>\n",
       "      <th>Abazar</th>\n",
       "      <th>Abbasabad</th>\n",
       "      <th>Abuzar</th>\n",
       "      <th>Afsarieh</th>\n",
       "      <th>...</th>\n",
       "      <th>Waterfall</th>\n",
       "      <th>West Ferdows Boulevard</th>\n",
       "      <th>West Pars</th>\n",
       "      <th>Yaftabad</th>\n",
       "      <th>Yakhchiabad</th>\n",
       "      <th>Yousef Abad</th>\n",
       "      <th>Zafar</th>\n",
       "      <th>Zaferanieh</th>\n",
       "      <th>Zargandeh</th>\n",
       "      <th>Zibadasht</th>\n",
       "    </tr>\n",
       "  </thead>\n",
       "  <tbody>\n",
       "    <tr>\n",
       "      <th>0</th>\n",
       "      <td>63</td>\n",
       "      <td>1</td>\n",
       "      <td>1</td>\n",
       "      <td>1</td>\n",
       "      <td>1</td>\n",
       "      <td>1850000000</td>\n",
       "      <td>False</td>\n",
       "      <td>False</td>\n",
       "      <td>False</td>\n",
       "      <td>False</td>\n",
       "      <td>...</td>\n",
       "      <td>False</td>\n",
       "      <td>False</td>\n",
       "      <td>False</td>\n",
       "      <td>False</td>\n",
       "      <td>False</td>\n",
       "      <td>False</td>\n",
       "      <td>False</td>\n",
       "      <td>False</td>\n",
       "      <td>False</td>\n",
       "      <td>False</td>\n",
       "    </tr>\n",
       "    <tr>\n",
       "      <th>1</th>\n",
       "      <td>60</td>\n",
       "      <td>1</td>\n",
       "      <td>1</td>\n",
       "      <td>1</td>\n",
       "      <td>1</td>\n",
       "      <td>1850000000</td>\n",
       "      <td>False</td>\n",
       "      <td>False</td>\n",
       "      <td>False</td>\n",
       "      <td>False</td>\n",
       "      <td>...</td>\n",
       "      <td>False</td>\n",
       "      <td>False</td>\n",
       "      <td>False</td>\n",
       "      <td>False</td>\n",
       "      <td>False</td>\n",
       "      <td>False</td>\n",
       "      <td>False</td>\n",
       "      <td>False</td>\n",
       "      <td>False</td>\n",
       "      <td>False</td>\n",
       "    </tr>\n",
       "    <tr>\n",
       "      <th>2</th>\n",
       "      <td>79</td>\n",
       "      <td>2</td>\n",
       "      <td>1</td>\n",
       "      <td>1</td>\n",
       "      <td>1</td>\n",
       "      <td>550000000</td>\n",
       "      <td>False</td>\n",
       "      <td>False</td>\n",
       "      <td>False</td>\n",
       "      <td>False</td>\n",
       "      <td>...</td>\n",
       "      <td>False</td>\n",
       "      <td>False</td>\n",
       "      <td>False</td>\n",
       "      <td>False</td>\n",
       "      <td>False</td>\n",
       "      <td>False</td>\n",
       "      <td>False</td>\n",
       "      <td>False</td>\n",
       "      <td>False</td>\n",
       "      <td>False</td>\n",
       "    </tr>\n",
       "  </tbody>\n",
       "</table>\n",
       "<p>3 rows × 193 columns</p>\n",
       "</div>"
      ],
      "text/plain": [
       "   Area  Room  Parking  Warehouse  Elevator      Price  Abazar  Abbasabad  \\\n",
       "0    63     1        1          1         1 1850000000   False      False   \n",
       "1    60     1        1          1         1 1850000000   False      False   \n",
       "2    79     2        1          1         1  550000000   False      False   \n",
       "\n",
       "   Abuzar  Afsarieh  ...  Waterfall  West Ferdows Boulevard  West Pars  \\\n",
       "0   False     False  ...      False                   False      False   \n",
       "1   False     False  ...      False                   False      False   \n",
       "2   False     False  ...      False                   False      False   \n",
       "\n",
       "   Yaftabad  Yakhchiabad  Yousef Abad  Zafar  Zaferanieh  Zargandeh  Zibadasht  \n",
       "0     False        False        False  False       False      False      False  \n",
       "1     False        False        False  False       False      False      False  \n",
       "2     False        False        False  False       False      False      False  \n",
       "\n",
       "[3 rows x 193 columns]"
      ]
     },
     "execution_count": 28,
     "metadata": {},
     "output_type": "execute_result"
    }
   ],
   "source": [
    "#one hot encoding\n",
    "address_dummy = pd.get_dummies(df['Address'])\n",
    "df = df.merge(address_dummy, left_index = True, right_index = True)\n",
    "df.drop(columns = 'Address', inplace = True)\n",
    "df.head(3)"
   ]
  },
  {
   "cell_type": "code",
   "execution_count": 31,
   "metadata": {},
   "outputs": [
    {
     "data": {
      "text/html": [
       "<div>\n",
       "<style scoped>\n",
       "    .dataframe tbody tr th:only-of-type {\n",
       "        vertical-align: middle;\n",
       "    }\n",
       "\n",
       "    .dataframe tbody tr th {\n",
       "        vertical-align: top;\n",
       "    }\n",
       "\n",
       "    .dataframe thead th {\n",
       "        text-align: right;\n",
       "    }\n",
       "</style>\n",
       "<table border=\"1\" class=\"dataframe\">\n",
       "  <thead>\n",
       "    <tr style=\"text-align: right;\">\n",
       "      <th></th>\n",
       "      <th>Area</th>\n",
       "      <th>Room</th>\n",
       "      <th>Parking</th>\n",
       "      <th>Warehouse</th>\n",
       "      <th>Elevator</th>\n",
       "      <th>Price</th>\n",
       "      <th>Abazar</th>\n",
       "      <th>Abbasabad</th>\n",
       "      <th>Abuzar</th>\n",
       "      <th>Afsarieh</th>\n",
       "      <th>...</th>\n",
       "      <th>Waterfall</th>\n",
       "      <th>West Ferdows Boulevard</th>\n",
       "      <th>West Pars</th>\n",
       "      <th>Yaftabad</th>\n",
       "      <th>Yakhchiabad</th>\n",
       "      <th>Yousef Abad</th>\n",
       "      <th>Zafar</th>\n",
       "      <th>Zaferanieh</th>\n",
       "      <th>Zargandeh</th>\n",
       "      <th>Zibadasht</th>\n",
       "    </tr>\n",
       "  </thead>\n",
       "  <tbody>\n",
       "    <tr>\n",
       "      <th>0</th>\n",
       "      <td>63</td>\n",
       "      <td>1</td>\n",
       "      <td>1</td>\n",
       "      <td>1</td>\n",
       "      <td>1</td>\n",
       "      <td>1850000000</td>\n",
       "      <td>0</td>\n",
       "      <td>0</td>\n",
       "      <td>0</td>\n",
       "      <td>0</td>\n",
       "      <td>...</td>\n",
       "      <td>0</td>\n",
       "      <td>0</td>\n",
       "      <td>0</td>\n",
       "      <td>0</td>\n",
       "      <td>0</td>\n",
       "      <td>0</td>\n",
       "      <td>0</td>\n",
       "      <td>0</td>\n",
       "      <td>0</td>\n",
       "      <td>0</td>\n",
       "    </tr>\n",
       "    <tr>\n",
       "      <th>1</th>\n",
       "      <td>60</td>\n",
       "      <td>1</td>\n",
       "      <td>1</td>\n",
       "      <td>1</td>\n",
       "      <td>1</td>\n",
       "      <td>1850000000</td>\n",
       "      <td>0</td>\n",
       "      <td>0</td>\n",
       "      <td>0</td>\n",
       "      <td>0</td>\n",
       "      <td>...</td>\n",
       "      <td>0</td>\n",
       "      <td>0</td>\n",
       "      <td>0</td>\n",
       "      <td>0</td>\n",
       "      <td>0</td>\n",
       "      <td>0</td>\n",
       "      <td>0</td>\n",
       "      <td>0</td>\n",
       "      <td>0</td>\n",
       "      <td>0</td>\n",
       "    </tr>\n",
       "    <tr>\n",
       "      <th>2</th>\n",
       "      <td>79</td>\n",
       "      <td>2</td>\n",
       "      <td>1</td>\n",
       "      <td>1</td>\n",
       "      <td>1</td>\n",
       "      <td>550000000</td>\n",
       "      <td>0</td>\n",
       "      <td>0</td>\n",
       "      <td>0</td>\n",
       "      <td>0</td>\n",
       "      <td>...</td>\n",
       "      <td>0</td>\n",
       "      <td>0</td>\n",
       "      <td>0</td>\n",
       "      <td>0</td>\n",
       "      <td>0</td>\n",
       "      <td>0</td>\n",
       "      <td>0</td>\n",
       "      <td>0</td>\n",
       "      <td>0</td>\n",
       "      <td>0</td>\n",
       "    </tr>\n",
       "    <tr>\n",
       "      <th>3</th>\n",
       "      <td>95</td>\n",
       "      <td>2</td>\n",
       "      <td>1</td>\n",
       "      <td>1</td>\n",
       "      <td>1</td>\n",
       "      <td>902500000</td>\n",
       "      <td>0</td>\n",
       "      <td>0</td>\n",
       "      <td>0</td>\n",
       "      <td>0</td>\n",
       "      <td>...</td>\n",
       "      <td>0</td>\n",
       "      <td>0</td>\n",
       "      <td>0</td>\n",
       "      <td>0</td>\n",
       "      <td>0</td>\n",
       "      <td>0</td>\n",
       "      <td>0</td>\n",
       "      <td>0</td>\n",
       "      <td>0</td>\n",
       "      <td>0</td>\n",
       "    </tr>\n",
       "    <tr>\n",
       "      <th>4</th>\n",
       "      <td>123</td>\n",
       "      <td>2</td>\n",
       "      <td>1</td>\n",
       "      <td>1</td>\n",
       "      <td>1</td>\n",
       "      <td>7000000000</td>\n",
       "      <td>0</td>\n",
       "      <td>0</td>\n",
       "      <td>0</td>\n",
       "      <td>0</td>\n",
       "      <td>...</td>\n",
       "      <td>0</td>\n",
       "      <td>0</td>\n",
       "      <td>0</td>\n",
       "      <td>0</td>\n",
       "      <td>0</td>\n",
       "      <td>0</td>\n",
       "      <td>0</td>\n",
       "      <td>0</td>\n",
       "      <td>0</td>\n",
       "      <td>0</td>\n",
       "    </tr>\n",
       "  </tbody>\n",
       "</table>\n",
       "<p>5 rows × 193 columns</p>\n",
       "</div>"
      ],
      "text/plain": [
       "   Area  Room  Parking  Warehouse  Elevator      Price  Abazar  Abbasabad  \\\n",
       "0    63     1        1          1         1 1850000000       0          0   \n",
       "1    60     1        1          1         1 1850000000       0          0   \n",
       "2    79     2        1          1         1  550000000       0          0   \n",
       "3    95     2        1          1         1  902500000       0          0   \n",
       "4   123     2        1          1         1 7000000000       0          0   \n",
       "\n",
       "   Abuzar  Afsarieh  ...  Waterfall  West Ferdows Boulevard  West Pars  \\\n",
       "0       0         0  ...          0                       0          0   \n",
       "1       0         0  ...          0                       0          0   \n",
       "2       0         0  ...          0                       0          0   \n",
       "3       0         0  ...          0                       0          0   \n",
       "4       0         0  ...          0                       0          0   \n",
       "\n",
       "   Yaftabad  Yakhchiabad  Yousef Abad  Zafar  Zaferanieh  Zargandeh  Zibadasht  \n",
       "0         0            0            0      0           0          0          0  \n",
       "1         0            0            0      0           0          0          0  \n",
       "2         0            0            0      0           0          0          0  \n",
       "3         0            0            0      0           0          0          0  \n",
       "4         0            0            0      0           0          0          0  \n",
       "\n",
       "[5 rows x 193 columns]"
      ]
     },
     "execution_count": 31,
     "metadata": {},
     "output_type": "execute_result"
    }
   ],
   "source": [
    "# 0 and 1 -->False and True\n",
    "Address_name = df.columns[6::]\n",
    "df[Address_name] = df[Address_name].astype('int64')\n",
    "df.head()\n"
   ]
  },
  {
   "cell_type": "code",
   "execution_count": 36,
   "metadata": {},
   "outputs": [],
   "source": [
    "df.to_csv(\"clean_home_Data.csv\", index=False)"
   ]
  },
  {
   "cell_type": "code",
   "execution_count": null,
   "metadata": {},
   "outputs": [],
   "source": []
  },
  {
   "cell_type": "code",
   "execution_count": null,
   "metadata": {},
   "outputs": [],
   "source": [
    "#remove duplicate\n",
    "# print(f\"duplicated:{sum(df.duplicated())}\\n shape:{df.shape}\")\n",
    "# df = df.drop_duplicates()\n",
    "# print(f\"after drop duplicated:{sum(df.duplicated())}\\n shape:{df.shape}\")"
   ]
  },
  {
   "cell_type": "markdown",
   "metadata": {},
   "source": [
    "# Model"
   ]
  },
  {
   "cell_type": "code",
   "execution_count": 46,
   "metadata": {},
   "outputs": [
    {
     "name": "stdout",
     "output_type": "stream",
     "text": [
      "Xtrain shape:(2626, 192)\n",
      " ytrain shape:(2626,)\n",
      " Xtest shape:(464, 192)\n",
      " ytest shape:(464,)\n"
     ]
    }
   ],
   "source": [
    "\n",
    "#Avoid Data Leakage When Performing Data Preparation\n",
    "\n",
    "X = df.drop(columns='Price')\n",
    "y = df['Price']\n",
    "#normalize 0-1 \n",
    "# scaler = MinMaxScaler(feature_range=(0, 1))\n",
    "# X_new = scaler.fit_transform(X)\n",
    "from sklearn.preprocessing import StandardScaler\n",
    "scaler= StandardScaler()\n",
    "#split train and test 85 and 15\n",
    "X_train, X_test, y_train, y_test =train_test_split(X, y, test_size=0.15, random_state=2023)\n",
    "X_train = scaler.fit_transform(X_train)\n",
    "X_test = scaler.transform(X_test)\n",
    "print(f\"Xtrain shape:{X_train.shape}\\n ytrain shape:{y_train.shape}\\n Xtest shape:{X_test.shape}\\n ytest shape:{y_test.shape}\")"
   ]
  },
  {
   "cell_type": "code",
   "execution_count": 49,
   "metadata": {},
   "outputs": [],
   "source": [
    "def parameter_finder (model, parameters):\n",
    "    \n",
    "    start = time.time()\n",
    "    \n",
    "    grid = GridSearchCV(model, \n",
    "                        param_grid = parameters, \n",
    "                        refit = True, \n",
    "                        cv = KFold(shuffle = True, random_state = 1),\n",
    "                       n_jobs=-1)\n",
    "    grid_fit = grid.fit(X_train, y_train, plot = True)\n",
    "    y_train_pred = grid_fit.predict(X_train)\n",
    "    y_pred = grid_fit.predict(X_test)\n",
    "    \n",
    "    train_score =grid_fit.score(X_train, y_train)\n",
    "    test_score = grid_fit.score(X_test, y_test)\n",
    "    RMSE = np.sqrt(mean_squared_error(y_test, y_pred))\n",
    "    \n",
    "    model_name = str(model).split('(')[0]\n",
    "    \n",
    "    end = time.time()\n",
    "    \n",
    "    print(f\"The best parameters for {model_name} model is: {grid_fit.best_params_}\")\n",
    "    print(\"--\" * 10)\n",
    "    print(f\"(R2 score) in the training set is {train_score:0.2%} for {model_name} model.\")\n",
    "    print(f\"(R2 score) in the testing set is {test_score:0.2%} for {model_name} model.\")\n",
    "    print(f\"RMSE is {RMSE:,} for {model_name} model.\")\n",
    "    print(\"--\" * 10)\n",
    "    print(f\"Runtime of the program is: {end - start:0.2f}\")\n",
    "    \n",
    "       \n",
    "    return train_score, test_score, RMSE, y_pred"
   ]
  },
  {
   "cell_type": "code",
   "execution_count": 51,
   "metadata": {},
   "outputs": [
    {
     "data": {
      "application/vnd.jupyter.widget-view+json": {
       "model_id": "bfe84f8f22b246ea842d8ee29cd93437",
       "version_major": 2,
       "version_minor": 0
      },
      "text/plain": [
       "MetricVisualizer(layout=Layout(align_self='stretch', height='500px'))"
      ]
     },
     "metadata": {},
     "output_type": "display_data"
    },
    {
     "name": "stdout",
     "output_type": "stream",
     "text": [
      "The best parameters for <catboost.core.CatBoostRegressor object at 0x000000547080FAF0> model is: {'boosting_type': 'Ordered', 'bootstrap_type': 'Bayesian', 'depth': 5, 'iterations': 750, 'l2_leaf_reg': 8, 'learning_rate': 0.3}\n",
      "--------------------\n",
      "(R2 score) in the training set is 90.25% for <catboost.core.CatBoostRegressor object at 0x000000547080FAF0> model.\n",
      "(R2 score) in the testing set is 89.73% for <catboost.core.CatBoostRegressor object at 0x000000547080FAF0> model.\n",
      "RMSE is 885,760,332.6624362 for <catboost.core.CatBoostRegressor object at 0x000000547080FAF0> model.\n",
      "--------------------\n",
      "Runtime of the program is: 78.78\n"
     ]
    }
   ],
   "source": [
    "model = CatBoostRegressor(random_seed=432013,verbose=False, early_stopping_rounds=100)\n",
    "param = {'learning_rate': [0.3],\n",
    "         'iterations':[750],\n",
    "         \"bootstrap_type\": [\"Bayesian\", \"Bernoulli\", \"MVS\"],\n",
    "         \"boosting_type\": [\"Ordered\", \"Plain\"],\n",
    "        'depth':[5],\n",
    "        'l2_leaf_reg':[8]}\n",
    "#'min_child_samples': [1,4]\n",
    "\n",
    "\n",
    "trainscore,testscore,RMSE_score, ypred = parameter_finder(model, param)"
   ]
  },
  {
   "cell_type": "code",
   "execution_count": null,
   "metadata": {},
   "outputs": [],
   "source": [
    "df_pred= pd.DataFrame({'true': y_test , 'pred': ypred} )\n",
    "df_pred['difference'] = df_pred['pred']  - df_pred['true']\n",
    "df_pred = df_pred.sort_values('difference', ascending=False)\n",
    "df_pred = pd.merge(df_pred, df_org, how='left', left_index=True, right_index=True)\n",
    "plot_data = df_pred.reset_index(drop=True)\n",
    "plot_data = plot_data.drop(['Price','Price(USD)'],axis=1)\n",
    "newdf = plot_data[['true', 'pred']].copy()\n",
    "\n",
    "fig = px.scatter(newdf, hover_name=plot_data['Address'])\n",
    "fig.add_vrect(x0=\"0\", x1=\"120\", col=1,\n",
    "              annotation_text=\"Undervalue\", annotation_position=\"top left\",\n",
    "              fillcolor=\"green\", opacity=0.25, line_width=0)\n",
    "\n",
    "fig.add_vrect(x0=\"125\", x1=\"497\", col=1,\n",
    "              annotation_text=\"Normal\", annotation_position=\"top left\",\n",
    "              fillcolor=\"yellow\", opacity=0.25, line_width=0)\n",
    "\n",
    "fig.add_vrect(x0=\"500\", x1=\"630\", col=1,\n",
    "              annotation_text=\"Overvalue\", annotation_position=\"top left\",\n",
    "              fillcolor=\"red\", opacity=0.25, line_width=0)\n",
    "fig.add_bar(x=newdf.index, y=plot_data['difference'] ,name='difference')\n",
    "fig.show()"
   ]
  },
  {
   "cell_type": "code",
   "execution_count": null,
   "metadata": {},
   "outputs": [],
   "source": [
    "sns.barplot(x=['train score','tests core'],y=[trainscore,testscore])\n",
    "plt.title(\"CatBoost\")\n",
    "plt.yticks(np.arange(0,1.1,0.1))\n",
    "plt.show()"
   ]
  },
  {
   "cell_type": "code",
   "execution_count": null,
   "metadata": {},
   "outputs": [],
   "source": []
  }
 ],
 "metadata": {
  "kernelspec": {
   "display_name": "Python 3",
   "language": "python",
   "name": "python3"
  },
  "language_info": {
   "codemirror_mode": {
    "name": "ipython",
    "version": 3
   },
   "file_extension": ".py",
   "mimetype": "text/x-python",
   "name": "python",
   "nbconvert_exporter": "python",
   "pygments_lexer": "ipython3",
   "version": "3.10.11"
  },
  "orig_nbformat": 4
 },
 "nbformat": 4,
 "nbformat_minor": 2
}
